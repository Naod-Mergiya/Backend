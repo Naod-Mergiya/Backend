{
 "cells": [
  {
   "cell_type": "markdown",
   "metadata": {},
   "source": [
    "# Pulling data from public APIs (without registration) - GET request"
   ]
  },
  {
   "cell_type": "code",
   "execution_count": 83,
   "metadata": {},
   "outputs": [],
   "source": [
    "# loading the packages\n",
    "# requests provides us with the capabilities of sending an HTTP request to a server\n",
    "import requests"
   ]
  },
  {
   "cell_type": "markdown",
   "metadata": {},
   "source": [
    "## Extracting data on currency exchange rates"
   ]
  },
  {
   "cell_type": "code",
   "execution_count": 2,
   "metadata": {},
   "outputs": [],
   "source": [
    "# We will use an API containing currency exchange rates as published by the European Central Bank\n",
    "# Documentation at https://exchangeratesapi.io"
   ]
  },
  {
   "cell_type": "markdown",
   "metadata": {},
   "source": [
    "### Sending a GET request"
   ]
  },
  {
   "cell_type": "code",
   "execution_count": 120,
   "metadata": {},
   "outputs": [],
   "source": [
    "# Define the base URL\n",
    "# Base URL: the part of the URL common to all requests, not containing the parameters\n",
    "base_url = \"http://api.exchangeratesapi.io/v1/latest?access_key=32e20f98f0b926eab8bdc25e88e99b08\""
   ]
  },
  {
   "cell_type": "code",
   "execution_count": 102,
   "metadata": {},
   "outputs": [],
   "source": [
    "# We can make a GET request to this API endpoint with requests.get\n",
    "response = requests.get(base_url)\n",
    "\n",
    "# This method returns the response from the server\n",
    "# We store this response in a variable for future processing"
   ]
  },
  {
   "cell_type": "markdown",
   "metadata": {},
   "source": [
    "### Investigating the response"
   ]
  },
  {
   "cell_type": "code",
   "execution_count": 103,
   "metadata": {},
   "outputs": [
    {
     "data": {
      "text/plain": [
       "True"
      ]
     },
     "execution_count": 103,
     "metadata": {},
     "output_type": "execute_result"
    }
   ],
   "source": [
    "# Checking if the request went through ok\n",
    "response.ok"
   ]
  },
  {
   "cell_type": "code",
   "execution_count": 104,
   "metadata": {},
   "outputs": [
    {
     "data": {
      "text/plain": [
       "200"
      ]
     },
     "execution_count": 104,
     "metadata": {},
     "output_type": "execute_result"
    }
   ],
   "source": [
    "# Checking the status code of the response\n",
    "response.status_code"
   ]
  },
  {
   "cell_type": "code",
   "execution_count": 9,
   "metadata": {},
   "outputs": [
    {
     "data": {
      "text/plain": [
       "'{\"success\":true,\"timestamp\":1730918822,\"base\":\"EUR\",\"date\":\"2024-11-06\",\"rates\":{\"AED\":3.949759,\"AFN\":72.575695,\"ALL\":98.260109,\"AMD\":416.548052,\"ANG\":1.937965,\"AOA\":981.259769,\"ARS\":1067.558643,\"AUD\":1.631483,\"AWG\":1.93563,\"AZN\":1.831878,\"BAM\":1.963835,\"BBD\":2.171155,\"BDT\":128.504762,\"BGN\":1.959385,\"BHD\":0.40523,\"BIF\":3113.138198,\"BMD\":1.07535,\"BND\":1.436203,\"BOB\":7.429988,\"BRL\":6.107233,\"BSD\":1.075285,\"BTC\":1.4372865e-5,\"BTN\":90.984819,\"BWP\":14.492444,\"BYN\":3.518831,\"BYR\":21076.859648,\"BZD\":2.1675,\"CAD\":1.498769,\"CDF\":3084.103456,\"CHF\":0.94125,\"CLF\":0.037524,\"CLP\":1035.401059,\"CNY\":7.716718,\"CNH\":7.655734,\"COP\":4742.024583,\"CRC\":551.299314,\"CUC\":1.07535,\"CUP\":28.496775,\"CVE\":108.987005,\"CZK\":25.351396,\"DJF\":191.111056,\"DKK\":7.457015,\"DOP\":64.839299,\"DZD\":143.812998,\"EGP\":52.943247,\"ERN\":16.13025,\"ETB\":130.708675,\"EUR\":1,\"FJD\":2.436209,\"FKP\":0.822824,\"GBP\":0.832799,\"GEL\":2.930292,\"GGP\":0.822824,\"GHS\":17.646287,\"GIP\":0.822824,\"GMD\":76.886675,\"GNF\":9280.269865,\"GTQ\":8.298534,\"GYD\":224.966767,\"HKD\":8.36211,\"HNL\":26.97928,\"HRK\":7.408119,\"HTG\":141.480074,\"HUF\":409.794419,\"IDR\":16960.312382,\"ILS\":4.019685,\"IMP\":0.822824,\"INR\":90.614043,\"IQD\":1408.708476,\"IRR\":45277.610693,\"ISK\":148.32294,\"JEP\":0.822824,\"JMD\":170.326922,\"JOD\":0.762636,\"JPY\":166.051193,\"KES\":138.72023,\"KGS\":92.694158,\"KHR\":4376.674086,\"KMF\":493.182385,\"KPW\":967.814741,\"KRW\":1502.414746,\"KWD\":0.329895,\"KYD\":0.896138,\"KZT\":530.105993,\"LAK\":23582.425311,\"LBP\":96835.473731,\"LKR\":314.856104,\"LRD\":204.450948,\"LSL\":18.968782,\"LTL\":3.175229,\"LVL\":0.650469,\"LYD\":5.210093,\"MAD\":10.636257,\"MDL\":19.232212,\"MGA\":4968.11729,\"MKD\":61.84822,\"MMK\":3492.694795,\"MNT\":3654.039269,\"MOP\":8.610471,\"MRU\":42.922613,\"MUR\":50.025796,\"MVR\":16.555297,\"MWK\":1866.807445,\"MXN\":21.551681,\"MYR\":4.735305,\"MZN\":68.720267,\"NAD\":18.968974,\"NGN\":1799.486808,\"NIO\":39.54602,\"NOK\":11.883682,\"NPR\":145.584546,\"NZD\":1.805228,\"OMR\":0.414032,\"PAB\":1.075265,\"PEN\":4.070173,\"PGK\":4.315648,\"PHP\":63.156414,\"PKR\":298.806656,\"PLN\":4.35078,\"PYG\":8359.203138,\"QAR\":3.915188,\"RON\":4.975749,\"RSD\":117.005596,\"RUB\":104.549935,\"RWF\":1462.475976,\"SAR\":4.039697,\"SBD\":8.961872,\"SCR\":14.609228,\"SDG\":646.825342,\"SEK\":11.641164,\"SGD\":1.432291,\"SHP\":0.822824,\"SLE\":24.413719,\"SLL\":22549.548009,\"SOS\":614.02505,\"SRD\":37.458704,\"STD\":22257.573505,\"SVC\":9.409243,\"SYP\":2701.849379,\"SZL\":18.968997,\"THB\":36.852491,\"TJS\":11.451576,\"TMT\":3.774478,\"TND\":3.352942,\"TOP\":2.51858,\"TRY\":36.791979,\"TTD\":7.291342,\"TWD\":34.720366,\"TZS\":2930.32877,\"UAH\":44.581623,\"UGX\":3957.19154,\"USD\":1.07535,\"UYU\":44.746626,\"UZS\":13764.479318,\"VEF\":3895511.802862,\"VES\":46.671842,\"VND\":27297.759294,\"VUV\":127.667742,\"WST\":3.012253,\"XAF\":658.710421,\"XAG\":0.031879,\"XAU\":0.000395,\"XCD\":2.906187,\"XDR\":0.805668,\"XOF\":656.499042,\"XPF\":119.331742,\"YER\":268.649306,\"ZAR\":18.89508,\"ZMK\":9679.440655,\"ZMW\":29.141541,\"ZWL\":346.262255}}'"
      ]
     },
     "execution_count": 9,
     "metadata": {},
     "output_type": "execute_result"
    }
   ],
   "source": [
    "# Inspecting the content body of the response (as a regular 'string')\n",
    "response.text"
   ]
  },
  {
   "cell_type": "code",
   "execution_count": 10,
   "metadata": {},
   "outputs": [
    {
     "data": {
      "text/plain": [
       "b'{\"success\":true,\"timestamp\":1730918822,\"base\":\"EUR\",\"date\":\"2024-11-06\",\"rates\":{\"AED\":3.949759,\"AFN\":72.575695,\"ALL\":98.260109,\"AMD\":416.548052,\"ANG\":1.937965,\"AOA\":981.259769,\"ARS\":1067.558643,\"AUD\":1.631483,\"AWG\":1.93563,\"AZN\":1.831878,\"BAM\":1.963835,\"BBD\":2.171155,\"BDT\":128.504762,\"BGN\":1.959385,\"BHD\":0.40523,\"BIF\":3113.138198,\"BMD\":1.07535,\"BND\":1.436203,\"BOB\":7.429988,\"BRL\":6.107233,\"BSD\":1.075285,\"BTC\":1.4372865e-5,\"BTN\":90.984819,\"BWP\":14.492444,\"BYN\":3.518831,\"BYR\":21076.859648,\"BZD\":2.1675,\"CAD\":1.498769,\"CDF\":3084.103456,\"CHF\":0.94125,\"CLF\":0.037524,\"CLP\":1035.401059,\"CNY\":7.716718,\"CNH\":7.655734,\"COP\":4742.024583,\"CRC\":551.299314,\"CUC\":1.07535,\"CUP\":28.496775,\"CVE\":108.987005,\"CZK\":25.351396,\"DJF\":191.111056,\"DKK\":7.457015,\"DOP\":64.839299,\"DZD\":143.812998,\"EGP\":52.943247,\"ERN\":16.13025,\"ETB\":130.708675,\"EUR\":1,\"FJD\":2.436209,\"FKP\":0.822824,\"GBP\":0.832799,\"GEL\":2.930292,\"GGP\":0.822824,\"GHS\":17.646287,\"GIP\":0.822824,\"GMD\":76.886675,\"GNF\":9280.269865,\"GTQ\":8.298534,\"GYD\":224.966767,\"HKD\":8.36211,\"HNL\":26.97928,\"HRK\":7.408119,\"HTG\":141.480074,\"HUF\":409.794419,\"IDR\":16960.312382,\"ILS\":4.019685,\"IMP\":0.822824,\"INR\":90.614043,\"IQD\":1408.708476,\"IRR\":45277.610693,\"ISK\":148.32294,\"JEP\":0.822824,\"JMD\":170.326922,\"JOD\":0.762636,\"JPY\":166.051193,\"KES\":138.72023,\"KGS\":92.694158,\"KHR\":4376.674086,\"KMF\":493.182385,\"KPW\":967.814741,\"KRW\":1502.414746,\"KWD\":0.329895,\"KYD\":0.896138,\"KZT\":530.105993,\"LAK\":23582.425311,\"LBP\":96835.473731,\"LKR\":314.856104,\"LRD\":204.450948,\"LSL\":18.968782,\"LTL\":3.175229,\"LVL\":0.650469,\"LYD\":5.210093,\"MAD\":10.636257,\"MDL\":19.232212,\"MGA\":4968.11729,\"MKD\":61.84822,\"MMK\":3492.694795,\"MNT\":3654.039269,\"MOP\":8.610471,\"MRU\":42.922613,\"MUR\":50.025796,\"MVR\":16.555297,\"MWK\":1866.807445,\"MXN\":21.551681,\"MYR\":4.735305,\"MZN\":68.720267,\"NAD\":18.968974,\"NGN\":1799.486808,\"NIO\":39.54602,\"NOK\":11.883682,\"NPR\":145.584546,\"NZD\":1.805228,\"OMR\":0.414032,\"PAB\":1.075265,\"PEN\":4.070173,\"PGK\":4.315648,\"PHP\":63.156414,\"PKR\":298.806656,\"PLN\":4.35078,\"PYG\":8359.203138,\"QAR\":3.915188,\"RON\":4.975749,\"RSD\":117.005596,\"RUB\":104.549935,\"RWF\":1462.475976,\"SAR\":4.039697,\"SBD\":8.961872,\"SCR\":14.609228,\"SDG\":646.825342,\"SEK\":11.641164,\"SGD\":1.432291,\"SHP\":0.822824,\"SLE\":24.413719,\"SLL\":22549.548009,\"SOS\":614.02505,\"SRD\":37.458704,\"STD\":22257.573505,\"SVC\":9.409243,\"SYP\":2701.849379,\"SZL\":18.968997,\"THB\":36.852491,\"TJS\":11.451576,\"TMT\":3.774478,\"TND\":3.352942,\"TOP\":2.51858,\"TRY\":36.791979,\"TTD\":7.291342,\"TWD\":34.720366,\"TZS\":2930.32877,\"UAH\":44.581623,\"UGX\":3957.19154,\"USD\":1.07535,\"UYU\":44.746626,\"UZS\":13764.479318,\"VEF\":3895511.802862,\"VES\":46.671842,\"VND\":27297.759294,\"VUV\":127.667742,\"WST\":3.012253,\"XAF\":658.710421,\"XAG\":0.031879,\"XAU\":0.000395,\"XCD\":2.906187,\"XDR\":0.805668,\"XOF\":656.499042,\"XPF\":119.331742,\"YER\":268.649306,\"ZAR\":18.89508,\"ZMK\":9679.440655,\"ZMW\":29.141541,\"ZWL\":346.262255}}'"
      ]
     },
     "execution_count": 10,
     "metadata": {},
     "output_type": "execute_result"
    }
   ],
   "source": [
    "# Inspecting the content of the response (in 'bytes' format)\n",
    "response.content"
   ]
  },
  {
   "cell_type": "code",
   "execution_count": 11,
   "metadata": {},
   "outputs": [],
   "source": [
    "# The data is presented in JSON format"
   ]
  },
  {
   "cell_type": "markdown",
   "metadata": {},
   "source": [
    "### Handling the JSON"
   ]
  },
  {
   "cell_type": "code",
   "execution_count": 64,
   "metadata": {},
   "outputs": [
    {
     "data": {
      "text/plain": [
       "{'success': True,\n",
       " 'timestamp': 1730927525,\n",
       " 'base': 'EUR',\n",
       " 'date': '2024-11-06',\n",
       " 'rates': {'AED': 3.942219,\n",
       "  'AFN': 72.430006,\n",
       "  'ALL': 98.072373,\n",
       "  'AMD': 415.751865,\n",
       "  'ANG': 1.934262,\n",
       "  'AOA': 979.379477,\n",
       "  'ARS': 1065.523855,\n",
       "  'AUD': 1.633544,\n",
       "  'AWG': 1.931932,\n",
       "  'AZN': 1.825265,\n",
       "  'BAM': 1.960083,\n",
       "  'BBD': 2.167007,\n",
       "  'BDT': 128.25923,\n",
       "  'BGN': 1.954478,\n",
       "  'BHD': 0.404442,\n",
       "  'BIF': 3107.189981,\n",
       "  'BMD': 1.073295,\n",
       "  'BND': 1.433459,\n",
       "  'BOB': 7.415792,\n",
       "  'BRL': 6.091057,\n",
       "  'BSD': 1.07323,\n",
       "  'BTC': 1.4114423e-05,\n",
       "  'BTN': 90.810975,\n",
       "  'BWP': 14.464753,\n",
       "  'BYN': 3.512107,\n",
       "  'BYR': 21036.588472,\n",
       "  'BZD': 2.163358,\n",
       "  'CAD': 1.496319,\n",
       "  'CDF': 3078.210847,\n",
       "  'CHF': 0.940745,\n",
       "  'CLF': 0.037475,\n",
       "  'CLP': 1034.05554,\n",
       "  'CNY': 7.701432,\n",
       "  'CNH': 7.641106,\n",
       "  'COP': 4735.250201,\n",
       "  'CRC': 550.245957,\n",
       "  'CUC': 1.073295,\n",
       "  'CUP': 28.442326,\n",
       "  'CVE': 108.778433,\n",
       "  'CZK': 25.351103,\n",
       "  'DJF': 190.746187,\n",
       "  'DKK': 7.458469,\n",
       "  'DOP': 64.723339,\n",
       "  'DZD': 143.5479,\n",
       "  'EGP': 52.853567,\n",
       "  'ERN': 16.09943,\n",
       "  'ETB': 130.458608,\n",
       "  'EUR': 1,\n",
       "  'FJD': 2.447219,\n",
       "  'FKP': 0.821252,\n",
       "  'GBP': 0.832893,\n",
       "  'GEL': 2.924758,\n",
       "  'GGP': 0.821252,\n",
       "  'GHS': 17.612558,\n",
       "  'GIP': 0.821252,\n",
       "  'GMD': 76.740682,\n",
       "  'GNF': 9262.538762,\n",
       "  'GTQ': 8.282678,\n",
       "  'GYD': 224.536927,\n",
       "  'HKD': 8.34705,\n",
       "  'HNL': 26.945667,\n",
       "  'HRK': 7.393964,\n",
       "  'HTG': 141.20975,\n",
       "  'HUF': 409.90181,\n",
       "  'IDR': 16961.769086,\n",
       "  'ILS': 4.012005,\n",
       "  'IMP': 0.821252,\n",
       "  'INR': 90.520494,\n",
       "  'IQD': 1406.016883,\n",
       "  'IRR': 45191.099565,\n",
       "  'ISK': 148.296853,\n",
       "  'JEP': 0.821252,\n",
       "  'JMD': 170.001482,\n",
       "  'JOD': 0.761181,\n",
       "  'JPY': 165.941075,\n",
       "  'KES': 138.455199,\n",
       "  'KGS': 92.487558,\n",
       "  'KHR': 4368.311771,\n",
       "  'KMF': 492.240103,\n",
       "  'KPW': 965.965555,\n",
       "  'KRW': 1502.511525,\n",
       "  'KWD': 0.32933,\n",
       "  'KYD': 0.894425,\n",
       "  'KZT': 529.093129,\n",
       "  'LAK': 23537.36706,\n",
       "  'LBP': 96650.451936,\n",
       "  'LKR': 314.254514,\n",
       "  'LRD': 204.060278,\n",
       "  'LSL': 18.932823,\n",
       "  'LTL': 3.169162,\n",
       "  'LVL': 0.649225,\n",
       "  'LYD': 5.200154,\n",
       "  'MAD': 10.615933,\n",
       "  'MDL': 19.195466,\n",
       "  'MGA': 4958.624569,\n",
       "  'MKD': 61.730048,\n",
       "  'MMK': 3486.021366,\n",
       "  'MNT': 3647.057562,\n",
       "  'MOP': 8.59402,\n",
       "  'MRU': 42.840591,\n",
       "  'MUR': 49.92952,\n",
       "  'MVR': 16.531964,\n",
       "  'MWK': 1863.240203,\n",
       "  'MXN': 21.572594,\n",
       "  'MYR': 4.726258,\n",
       "  'MZN': 68.588921,\n",
       "  'NAD': 18.933197,\n",
       "  'NGN': 1796.053813,\n",
       "  'NIO': 39.470396,\n",
       "  'NOK': 11.886488,\n",
       "  'NPR': 145.30638,\n",
       "  'NZD': 1.806479,\n",
       "  'OMR': 0.41322,\n",
       "  'PAB': 1.07321,\n",
       "  'PEN': 4.062402,\n",
       "  'PGK': 4.307403,\n",
       "  'PHP': 63.148408,\n",
       "  'PKR': 298.271884,\n",
       "  'PLN': 4.352893,\n",
       "  'PYG': 8343.231359,\n",
       "  'QAR': 3.907707,\n",
       "  'RON': 4.975257,\n",
       "  'RSD': 116.997726,\n",
       "  'RUB': 104.350143,\n",
       "  'RWF': 1459.681649,\n",
       "  'SAR': 4.031975,\n",
       "  'SBD': 8.944749,\n",
       "  'SCR': 14.581314,\n",
       "  'SDG': 645.585425,\n",
       "  'SEK': 11.647826,\n",
       "  'SGD': 1.431502,\n",
       "  'SHP': 0.821252,\n",
       "  'SLE': 24.3642,\n",
       "  'SLL': 22506.462994,\n",
       "  'SOS': 612.85202,\n",
       "  'SRD': 37.387167,\n",
       "  'STD': 22215.046361,\n",
       "  'SVC': 9.391265,\n",
       "  'SYP': 2696.687004,\n",
       "  'SZL': 18.932883,\n",
       "  'THB': 36.878077,\n",
       "  'TJS': 11.429695,\n",
       "  'TMT': 3.767267,\n",
       "  'TND': 3.346496,\n",
       "  'TOP': 2.513767,\n",
       "  'TRY': 36.708628,\n",
       "  'TTD': 7.277411,\n",
       "  'TWD': 34.704469,\n",
       "  'TZS': 2924.730045,\n",
       "  'UAH': 44.496442,\n",
       "  'UGX': 3949.630605,\n",
       "  'USD': 1.073295,\n",
       "  'UYU': 44.661129,\n",
       "  'UZS': 13738.180251,\n",
       "  'VEF': 3888068.718664,\n",
       "  'VES': 46.584304,\n",
       "  'VND': 27245.601957,\n",
       "  'VUV': 127.42381,\n",
       "  'WST': 3.006498,\n",
       "  'XAF': 657.451835,\n",
       "  'XAG': 0.031818,\n",
       "  'XAU': 0.000394,\n",
       "  'XCD': 2.900634,\n",
       "  'XDR': 0.804128,\n",
       "  'XOF': 655.246436,\n",
       "  'XPF': 119.331742,\n",
       "  'YER': 268.135987,\n",
       "  'ZAR': 18.927243,\n",
       "  'ZMK': 9660.951645,\n",
       "  'ZMW': 29.085861,\n",
       "  'ZWL': 345.600658}}"
      ]
     },
     "execution_count": 64,
     "metadata": {},
     "output_type": "execute_result"
    }
   ],
   "source": [
    "# Requests has in-build method to directly convert the response to JSON format\n",
    "response.json()\n"
   ]
  },
  {
   "cell_type": "code",
   "execution_count": 49,
   "metadata": {},
   "outputs": [
    {
     "data": {
      "text/plain": [
       "dict"
      ]
     },
     "execution_count": 49,
     "metadata": {},
     "output_type": "execute_result"
    }
   ],
   "source": [
    "# In Python, this JSON is stored as a dictionary\n",
    "type(response.json())\n"
   ]
  },
  {
   "cell_type": "code",
   "execution_count": 13,
   "metadata": {},
   "outputs": [],
   "source": [
    "# A useful library for JSON manipulation and pretty print\n",
    "import json\n",
    "\n",
    "# It has two main methods:\n",
    "# .loads(), which creates a Python dictionary from a JSON format string (just as response.json() does)\n",
    "# .dumps(), which creates a JSON format string out of a Python dictionary "
   ]
  },
  {
   "cell_type": "code",
   "execution_count": 14,
   "metadata": {},
   "outputs": [
    {
     "data": {
      "text/plain": [
       "'{\\n    \"success\": true,\\n    \"timestamp\": 1730918822,\\n    \"base\": \"EUR\",\\n    \"date\": \"2024-11-06\",\\n    \"rates\": {\\n        \"AED\": 3.949759,\\n        \"AFN\": 72.575695,\\n        \"ALL\": 98.260109,\\n        \"AMD\": 416.548052,\\n        \"ANG\": 1.937965,\\n        \"AOA\": 981.259769,\\n        \"ARS\": 1067.558643,\\n        \"AUD\": 1.631483,\\n        \"AWG\": 1.93563,\\n        \"AZN\": 1.831878,\\n        \"BAM\": 1.963835,\\n        \"BBD\": 2.171155,\\n        \"BDT\": 128.504762,\\n        \"BGN\": 1.959385,\\n        \"BHD\": 0.40523,\\n        \"BIF\": 3113.138198,\\n        \"BMD\": 1.07535,\\n        \"BND\": 1.436203,\\n        \"BOB\": 7.429988,\\n        \"BRL\": 6.107233,\\n        \"BSD\": 1.075285,\\n        \"BTC\": 1.4372865e-05,\\n        \"BTN\": 90.984819,\\n        \"BWP\": 14.492444,\\n        \"BYN\": 3.518831,\\n        \"BYR\": 21076.859648,\\n        \"BZD\": 2.1675,\\n        \"CAD\": 1.498769,\\n        \"CDF\": 3084.103456,\\n        \"CHF\": 0.94125,\\n        \"CLF\": 0.037524,\\n        \"CLP\": 1035.401059,\\n        \"CNY\": 7.716718,\\n        \"CNH\": 7.655734,\\n        \"COP\": 4742.024583,\\n        \"CRC\": 551.299314,\\n        \"CUC\": 1.07535,\\n        \"CUP\": 28.496775,\\n        \"CVE\": 108.987005,\\n        \"CZK\": 25.351396,\\n        \"DJF\": 191.111056,\\n        \"DKK\": 7.457015,\\n        \"DOP\": 64.839299,\\n        \"DZD\": 143.812998,\\n        \"EGP\": 52.943247,\\n        \"ERN\": 16.13025,\\n        \"ETB\": 130.708675,\\n        \"EUR\": 1,\\n        \"FJD\": 2.436209,\\n        \"FKP\": 0.822824,\\n        \"GBP\": 0.832799,\\n        \"GEL\": 2.930292,\\n        \"GGP\": 0.822824,\\n        \"GHS\": 17.646287,\\n        \"GIP\": 0.822824,\\n        \"GMD\": 76.886675,\\n        \"GNF\": 9280.269865,\\n        \"GTQ\": 8.298534,\\n        \"GYD\": 224.966767,\\n        \"HKD\": 8.36211,\\n        \"HNL\": 26.97928,\\n        \"HRK\": 7.408119,\\n        \"HTG\": 141.480074,\\n        \"HUF\": 409.794419,\\n        \"IDR\": 16960.312382,\\n        \"ILS\": 4.019685,\\n        \"IMP\": 0.822824,\\n        \"INR\": 90.614043,\\n        \"IQD\": 1408.708476,\\n        \"IRR\": 45277.610693,\\n        \"ISK\": 148.32294,\\n        \"JEP\": 0.822824,\\n        \"JMD\": 170.326922,\\n        \"JOD\": 0.762636,\\n        \"JPY\": 166.051193,\\n        \"KES\": 138.72023,\\n        \"KGS\": 92.694158,\\n        \"KHR\": 4376.674086,\\n        \"KMF\": 493.182385,\\n        \"KPW\": 967.814741,\\n        \"KRW\": 1502.414746,\\n        \"KWD\": 0.329895,\\n        \"KYD\": 0.896138,\\n        \"KZT\": 530.105993,\\n        \"LAK\": 23582.425311,\\n        \"LBP\": 96835.473731,\\n        \"LKR\": 314.856104,\\n        \"LRD\": 204.450948,\\n        \"LSL\": 18.968782,\\n        \"LTL\": 3.175229,\\n        \"LVL\": 0.650469,\\n        \"LYD\": 5.210093,\\n        \"MAD\": 10.636257,\\n        \"MDL\": 19.232212,\\n        \"MGA\": 4968.11729,\\n        \"MKD\": 61.84822,\\n        \"MMK\": 3492.694795,\\n        \"MNT\": 3654.039269,\\n        \"MOP\": 8.610471,\\n        \"MRU\": 42.922613,\\n        \"MUR\": 50.025796,\\n        \"MVR\": 16.555297,\\n        \"MWK\": 1866.807445,\\n        \"MXN\": 21.551681,\\n        \"MYR\": 4.735305,\\n        \"MZN\": 68.720267,\\n        \"NAD\": 18.968974,\\n        \"NGN\": 1799.486808,\\n        \"NIO\": 39.54602,\\n        \"NOK\": 11.883682,\\n        \"NPR\": 145.584546,\\n        \"NZD\": 1.805228,\\n        \"OMR\": 0.414032,\\n        \"PAB\": 1.075265,\\n        \"PEN\": 4.070173,\\n        \"PGK\": 4.315648,\\n        \"PHP\": 63.156414,\\n        \"PKR\": 298.806656,\\n        \"PLN\": 4.35078,\\n        \"PYG\": 8359.203138,\\n        \"QAR\": 3.915188,\\n        \"RON\": 4.975749,\\n        \"RSD\": 117.005596,\\n        \"RUB\": 104.549935,\\n        \"RWF\": 1462.475976,\\n        \"SAR\": 4.039697,\\n        \"SBD\": 8.961872,\\n        \"SCR\": 14.609228,\\n        \"SDG\": 646.825342,\\n        \"SEK\": 11.641164,\\n        \"SGD\": 1.432291,\\n        \"SHP\": 0.822824,\\n        \"SLE\": 24.413719,\\n        \"SLL\": 22549.548009,\\n        \"SOS\": 614.02505,\\n        \"SRD\": 37.458704,\\n        \"STD\": 22257.573505,\\n        \"SVC\": 9.409243,\\n        \"SYP\": 2701.849379,\\n        \"SZL\": 18.968997,\\n        \"THB\": 36.852491,\\n        \"TJS\": 11.451576,\\n        \"TMT\": 3.774478,\\n        \"TND\": 3.352942,\\n        \"TOP\": 2.51858,\\n        \"TRY\": 36.791979,\\n        \"TTD\": 7.291342,\\n        \"TWD\": 34.720366,\\n        \"TZS\": 2930.32877,\\n        \"UAH\": 44.581623,\\n        \"UGX\": 3957.19154,\\n        \"USD\": 1.07535,\\n        \"UYU\": 44.746626,\\n        \"UZS\": 13764.479318,\\n        \"VEF\": 3895511.802862,\\n        \"VES\": 46.671842,\\n        \"VND\": 27297.759294,\\n        \"VUV\": 127.667742,\\n        \"WST\": 3.012253,\\n        \"XAF\": 658.710421,\\n        \"XAG\": 0.031879,\\n        \"XAU\": 0.000395,\\n        \"XCD\": 2.906187,\\n        \"XDR\": 0.805668,\\n        \"XOF\": 656.499042,\\n        \"XPF\": 119.331742,\\n        \"YER\": 268.649306,\\n        \"ZAR\": 18.89508,\\n        \"ZMK\": 9679.440655,\\n        \"ZMW\": 29.141541,\\n        \"ZWL\": 346.262255\\n    }\\n}'"
      ]
     },
     "execution_count": 14,
     "metadata": {},
     "output_type": "execute_result"
    }
   ],
   "source": [
    "# .dumps() has options to make the string 'prettier', more readable\n",
    "# We can choose the number of spaces to be used as indentation\n",
    "json.dumps(response.json(), indent=4)"
   ]
  },
  {
   "cell_type": "code",
   "execution_count": 44,
   "metadata": {},
   "outputs": [
    {
     "name": "stdout",
     "output_type": "stream",
     "text": [
      "{\n",
      "    \"success\": true,\n",
      "    \"timestamp\": 1730919125,\n",
      "    \"base\": \"EUR\",\n",
      "    \"date\": \"2024-11-06\",\n",
      "    \"rates\": {\n",
      "        \"USD\": 1.075386,\n",
      "        \"GBP\": 0.832941\n",
      "    }\n",
      "}\n"
     ]
    }
   ],
   "source": [
    "# In order to visualize these changes, we need to print the string\n",
    "print(json.dumps(response.json(), indent=4))"
   ]
  },
  {
   "cell_type": "code",
   "execution_count": null,
   "metadata": {},
   "outputs": [
    {
     "data": {
      "text/plain": [
       "{'USD': 1.075386, 'GBP': 0.832941}"
      ]
     },
     "execution_count": 45,
     "metadata": {},
     "output_type": "execute_result"
    }
   ],
   "source": [
    "# It contains 3 keys; the value for the 'rates' key is another dictionary\n",
    "data=response.json()\n",
    "data"
   ]
  },
  {
   "cell_type": "markdown",
   "metadata": {},
   "source": [
    "### Incorporating parameters in the GET request"
   ]
  },
  {
   "cell_type": "code",
   "execution_count": 66,
   "metadata": {},
   "outputs": [
    {
     "data": {
      "text/plain": [
       "'http://api.exchangeratesapi.io/v1/latest?access_key=e009c6cadaca5d0dcb4bec30a4fc9569&symbols=USD,GBP'"
      ]
     },
     "execution_count": 66,
     "metadata": {},
     "output_type": "execute_result"
    }
   ],
   "source": [
    "# Request parameters are added to the URL after a question mark '?'\n",
    "# In this case, we request for the exchange rates of the US Dollar (USD) and Pound Sterling (GBP) only\n",
    "param_url = base_url + \"&symbols=USD,GBP\"\n",
    "param_url"
   ]
  },
  {
   "cell_type": "code",
   "execution_count": 67,
   "metadata": {},
   "outputs": [
    {
     "data": {
      "text/plain": [
       "200"
      ]
     },
     "execution_count": 67,
     "metadata": {},
     "output_type": "execute_result"
    }
   ],
   "source": [
    "# Making a request to the server with the new URL, containing the parameters\n",
    "response = requests.get(param_url)\n",
    "response.status_code"
   ]
  },
  {
   "cell_type": "code",
   "execution_count": 37,
   "metadata": {},
   "outputs": [
    {
     "data": {
      "text/plain": [
       "{'success': True,\n",
       " 'timestamp': 1730919125,\n",
       " 'base': 'EUR',\n",
       " 'date': '2024-11-06',\n",
       " 'rates': {'USD': 1.075386, 'GBP': 0.832941}}"
      ]
     },
     "execution_count": 37,
     "metadata": {},
     "output_type": "execute_result"
    }
   ],
   "source": [
    "# Saving the response data\n",
    "data = response.json()\n",
    "data"
   ]
  },
  {
   "cell_type": "code",
   "execution_count": 23,
   "metadata": {},
   "outputs": [
    {
     "data": {
      "text/plain": [
       "'EUR'"
      ]
     },
     "execution_count": 23,
     "metadata": {},
     "output_type": "execute_result"
    }
   ],
   "source": [
    "# 'data' is a dictionary\n",
    "data['base']"
   ]
  },
  {
   "cell_type": "code",
   "execution_count": 68,
   "metadata": {},
   "outputs": [
    {
     "data": {
      "text/plain": [
       "'2024-11-06'"
      ]
     },
     "execution_count": 68,
     "metadata": {},
     "output_type": "execute_result"
    }
   ],
   "source": [
    "data['date']"
   ]
  },
  {
   "cell_type": "code",
   "execution_count": 69,
   "metadata": {},
   "outputs": [
    {
     "data": {
      "text/plain": [
       "{'USD': 1.075386, 'GBP': 0.832941}"
      ]
     },
     "execution_count": 69,
     "metadata": {},
     "output_type": "execute_result"
    }
   ],
   "source": [
    "data['rates']"
   ]
  },
  {
   "cell_type": "code",
   "execution_count": 70,
   "metadata": {},
   "outputs": [],
   "source": [
    "# As per the documentation of this API, we can change the base with the parameter 'base'\n",
    "param_url = base_url + \"&symbols=GBP&base=EUR\""
   ]
  },
  {
   "cell_type": "code",
   "execution_count": 71,
   "metadata": {},
   "outputs": [
    {
     "data": {
      "text/plain": [
       "{'success': True,\n",
       " 'timestamp': 1730927822,\n",
       " 'base': 'EUR',\n",
       " 'date': '2024-11-06',\n",
       " 'rates': {'GBP': 0.832901}}"
      ]
     },
     "execution_count": 71,
     "metadata": {},
     "output_type": "execute_result"
    }
   ],
   "source": [
    "# Sending a request and saving the response JSON, all at once\n",
    "data = requests.get(param_url).json()\n",
    "data"
   ]
  },
  {
   "cell_type": "code",
   "execution_count": 72,
   "metadata": {},
   "outputs": [
    {
     "data": {
      "text/plain": [
       "0.832901"
      ]
     },
     "execution_count": 72,
     "metadata": {},
     "output_type": "execute_result"
    }
   ],
   "source": [
    "usd_to_gbp = data['rates']['GBP']\n",
    "usd_to_gbp"
   ]
  },
  {
   "cell_type": "markdown",
   "metadata": {},
   "source": [
    "### Obtaining historical exchange rates"
   ]
  },
  {
   "cell_type": "code",
   "execution_count": 173,
   "metadata": {},
   "outputs": [],
   "source": [
    "base_url = \"https://api.exchangeratesapi.io/v1/timeseries?access_key=32e20f98f0b926eab8bdc25e88e99b08\""
   ]
  },
  {
   "cell_type": "code",
   "execution_count": 174,
   "metadata": {},
   "outputs": [
    {
     "data": {
      "text/plain": [
       "403"
      ]
     },
     "execution_count": 174,
     "metadata": {},
     "output_type": "execute_result"
    }
   ],
   "source": [
    "# Making the GET request\n",
    "response = requests.get(base_url)\n",
    "response.status_code"
   ]
  },
  {
   "cell_type": "code",
   "execution_count": 162,
   "metadata": {},
   "outputs": [
    {
     "name": "stdout",
     "output_type": "stream",
     "text": [
      "{\n",
      "    \"error\": {\n",
      "        \"code\": \"invalid_date\",\n",
      "        \"message\": \"You have entered an invalid date. [Required format: date=YYYY-MM-DD]\"\n",
      "    }\n",
      "}\n"
     ]
    }
   ],
   "source": [
    "# Pretty printing the data\n",
    "data = response.json()\n",
    "print(json.dumps(data, indent=4))"
   ]
  },
  {
   "cell_type": "markdown",
   "metadata": {},
   "source": [
    "### Extracting data for a time period"
   ]
  },
  {
   "cell_type": "code",
   "execution_count": 29,
   "metadata": {},
   "outputs": [],
   "source": [
    "# The last feautre of this API is: giving the historical exchange rates for every day over some time period"
   ]
  },
  {
   "cell_type": "code",
   "execution_count": 167,
   "metadata": {},
   "outputs": [
    {
     "data": {
      "text/plain": [
       "'https://api.exchangeratesapi.io/v1/history?access_key=32e20f98f0b926eab8bdc25e88e99b08&start_at=2024-04-26&end_at=2024-08-26&symbols=GBP'"
      ]
     },
     "execution_count": 167,
     "metadata": {},
     "output_type": "execute_result"
    }
   ],
   "source": [
    "# The URL for this request is formed with '/history' and the parameters 'start_at' and 'end_at'\n",
    "time_period = base_url + \"&start_at=2024-04-26&end_at=2024-08-26&symbols=GBP\"\n",
    "time_period"
   ]
  },
  {
   "cell_type": "code",
   "execution_count": 168,
   "metadata": {},
   "outputs": [],
   "source": [
    "# Extracting the response JSON object\n",
    "data = requests.get(time_period).json()"
   ]
  },
  {
   "cell_type": "code",
   "execution_count": 169,
   "metadata": {},
   "outputs": [
    {
     "name": "stdout",
     "output_type": "stream",
     "text": [
      "{\n",
      "    \"error\": {\n",
      "        \"code\": \"invalid_date\",\n",
      "        \"message\": \"You have entered an invalid date. [Required format: date=YYYY-MM-DD]\"\n",
      "    }\n",
      "}\n"
     ]
    }
   ],
   "source": [
    "# Pretty printing the JSON\n",
    "# Notice that the dates are in random order\n",
    "print(json.dumps(data, indent=4))"
   ]
  },
  {
   "cell_type": "code",
   "execution_count": 65,
   "metadata": {
    "scrolled": true
   },
   "outputs": [
    {
     "name": "stdout",
     "output_type": "stream",
     "text": [
      "{\n",
      "    \"base\": \"EUR\",\n",
      "    \"date\": \"2024-11-06\",\n",
      "    \"rates\": {\n",
      "        \"GBP\": 0.832941,\n",
      "        \"USD\": 1.075386\n",
      "    },\n",
      "    \"success\": true,\n",
      "    \"timestamp\": 1730919125\n",
      "}\n"
     ]
    }
   ],
   "source": [
    "# We can use the 'sort_keys' parameter of the json.dumps() method to order these dates chronologically\n",
    "print(json.dumps(data, indent=4, sort_keys=True))"
   ]
  },
  {
   "cell_type": "code",
   "execution_count": 34,
   "metadata": {},
   "outputs": [],
   "source": [
    "# This data can then be used to plot the change in the exchange rate through time or any other further analysis"
   ]
  },
  {
   "cell_type": "markdown",
   "metadata": {},
   "source": [
    "### Testing the API response to incorrect input"
   ]
  },
  {
   "cell_type": "code",
   "execution_count": 35,
   "metadata": {},
   "outputs": [],
   "source": [
    "# Testing how the API behaves if given incorrect input parameters"
   ]
  },
  {
   "cell_type": "code",
   "execution_count": 36,
   "metadata": {},
   "outputs": [],
   "source": [
    "# Trying out an invalid DATE\n",
    "invalid_url = base_url + \"/2019-13-01\""
   ]
  },
  {
   "cell_type": "code",
   "execution_count": 37,
   "metadata": {},
   "outputs": [
    {
     "data": {
      "text/plain": [
       "400"
      ]
     },
     "execution_count": 37,
     "metadata": {},
     "output_type": "execute_result"
    }
   ],
   "source": [
    "# Making the request\n",
    "response = requests.get(invalid_url)\n",
    "response.status_code # The server responds with a 400 error code indicating a 'bad request'"
   ]
  },
  {
   "cell_type": "code",
   "execution_count": 38,
   "metadata": {},
   "outputs": [
    {
     "data": {
      "text/plain": [
       "{'error': \"time data '2019-13-01' does not match format '%Y-%m-%d'\"}"
      ]
     },
     "execution_count": 38,
     "metadata": {},
     "output_type": "execute_result"
    }
   ],
   "source": [
    "# There is also an error message in the JSON\n",
    "response.json()"
   ]
  },
  {
   "cell_type": "code",
   "execution_count": 39,
   "metadata": {},
   "outputs": [],
   "source": [
    "# Testing an invalid BASE CURRENCY\n",
    "invalid_url = base_url + \"/2019-12-01?base=USB\""
   ]
  },
  {
   "cell_type": "code",
   "execution_count": 40,
   "metadata": {},
   "outputs": [
    {
     "data": {
      "text/plain": [
       "400"
      ]
     },
     "execution_count": 40,
     "metadata": {},
     "output_type": "execute_result"
    }
   ],
   "source": [
    "response = requests.get(invalid_url)\n",
    "response.status_code"
   ]
  },
  {
   "cell_type": "code",
   "execution_count": 41,
   "metadata": {},
   "outputs": [
    {
     "data": {
      "text/plain": [
       "{'error': \"Base 'USB' is not supported.\"}"
      ]
     },
     "execution_count": 41,
     "metadata": {},
     "output_type": "execute_result"
    }
   ],
   "source": [
    "response.json()"
   ]
  },
  {
   "cell_type": "code",
   "execution_count": 42,
   "metadata": {},
   "outputs": [],
   "source": [
    "# Testing an invalid EXCHANGE CURRENCY\n",
    "invalid_url = base_url + \"/2019-12-01?symbols=WBP\""
   ]
  },
  {
   "cell_type": "code",
   "execution_count": 43,
   "metadata": {},
   "outputs": [
    {
     "data": {
      "text/plain": [
       "400"
      ]
     },
     "execution_count": 43,
     "metadata": {},
     "output_type": "execute_result"
    }
   ],
   "source": [
    "response = requests.get(invalid_url)\n",
    "response.status_code"
   ]
  },
  {
   "cell_type": "code",
   "execution_count": 44,
   "metadata": {},
   "outputs": [
    {
     "data": {
      "text/plain": [
       "{'error': \"Symbols 'WBP' are invalid for date 2019-12-01.\"}"
      ]
     },
     "execution_count": 44,
     "metadata": {},
     "output_type": "execute_result"
    }
   ],
   "source": [
    "response.json()"
   ]
  }
 ],
 "metadata": {
  "kernelspec": {
   "display_name": "Python 3",
   "language": "python",
   "name": "python3"
  },
  "language_info": {
   "codemirror_mode": {
    "name": "ipython",
    "version": 3
   },
   "file_extension": ".py",
   "mimetype": "text/x-python",
   "name": "python",
   "nbconvert_exporter": "python",
   "pygments_lexer": "ipython3",
   "version": "3.12.2"
  }
 },
 "nbformat": 4,
 "nbformat_minor": 2
}
